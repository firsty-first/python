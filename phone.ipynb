{
 "cells": [
  {
   "cell_type": "code",
   "execution_count": 7,
   "metadata": {},
   "outputs": [],
   "source": [
    "import phonenumbers as ph\n",
    "from phonenumbers import geocoder,carrier,timezone,"
   ]
  },
  {
   "cell_type": "code",
   "execution_count": 8,
   "metadata": {},
   "outputs": [],
   "source": [
    "# Enter the phone number\n",
    "phone_number = input(\"Enter the phone number with country code: \")\n",
    "phone=ph.parse(phone_number)\n",
    "time=timezone.time_zones_for_number(phone)"
   ]
  },
  {
   "cell_type": "code",
   "execution_count": 9,
   "metadata": {},
   "outputs": [
    {
     "name": "stdout",
     "output_type": "stream",
     "text": [
      "Country Code: 91 National Number: 9931027836\n",
      "('Asia/Calcutta',)\n",
      "Airtel\n",
      "India\n",
      "<function country_name_for_number at 0x0000015F97C8A710>\n"
     ]
    }
   ],
   "source": [
    "car =carrier.name_for_number(phone,\"en\");\n",
    "reg=geocoder.description_for_number(phone,\"en\")\n",
    "print(phone)\n",
    "print(time)\n",
    "print(car)\n",
    "print(reg)\n",
    "print(geocoder.country_name_for_number)"
   ]
  }
 ],
 "metadata": {
  "kernelspec": {
   "display_name": "Python 3",
   "language": "python",
   "name": "python3"
  },
  "language_info": {
   "codemirror_mode": {
    "name": "ipython",
    "version": 3
   },
   "file_extension": ".py",
   "mimetype": "text/x-python",
   "name": "python",
   "nbconvert_exporter": "python",
   "pygments_lexer": "ipython3",
   "version": "3.10.2"
  },
  "orig_nbformat": 4
 },
 "nbformat": 4,
 "nbformat_minor": 2
}
